{
 "cells": [
  {
   "cell_type": "markdown",
   "id": "2b110e93-1abd-483e-931f-b85e6e743dea",
   "metadata": {
    "id": "2b110e93-1abd-483e-931f-b85e6e743dea"
   },
   "source": [
    "### Step1: Start by importing the necessary Python libraries for data preprocessing."
   ]
  },
  {
   "cell_type": "code",
   "execution_count": 1,
   "id": "cc343c65-3dfa-48f5-abb9-0e397badd737",
   "metadata": {
    "id": "cc343c65-3dfa-48f5-abb9-0e397badd737"
   },
   "outputs": [],
   "source": [
    "import pandas as pd\n",
    "import numpy as np\n",
    "import matplotlib.pyplot as plt\n",
    "from sklearn.preprocessing import LabelEncoder\n",
    "from scipy.stats import zscore\n",
    "from scipy import stats\n",
    "from sklearn.preprocessing import LabelEncoder\n"
   ]
  },
  {
   "cell_type": "markdown",
   "id": "3c75b32b-dd74-4d80-bb8f-cdbe0773ec8f",
   "metadata": {
    "id": "3c75b32b-dd74-4d80-bb8f-cdbe0773ec8f"
   },
   "source": [
    "### Step 2 Load the placement dataset into a Pandas Dataframe."
   ]
  },
  {
   "cell_type": "code",
   "execution_count": 2,
   "id": "17326c71-af37-4481-86ca-1c4c80861e6b",
   "metadata": {
    "id": "17326c71-af37-4481-86ca-1c4c80861e6b"
   },
   "outputs": [],
   "source": [
    "data=pd.read_csv(\"pre.csv\")"
   ]
  },
  {
   "cell_type": "markdown",
   "id": "924d7cde-8f44-4086-b71a-93102c3bc977",
   "metadata": {
    "id": "924d7cde-8f44-4086-b71a-93102c3bc977"
   },
   "source": [
    "####  Step 3 : Take a quick look at the data to understand its structure and identify any missing values or anomalies."
   ]
  },
  {
   "cell_type": "code",
   "execution_count": 7,
   "id": "d1bb5960-8940-42c9-bf3b-edd2c091b0ae",
   "metadata": {
    "id": "d1bb5960-8940-42c9-bf3b-edd2c091b0ae",
    "outputId": "3a87a9dd-470d-4e97-d8d8-474f1d68c3b0"
   },
   "outputs": [
    {
     "name": "stdout",
     "output_type": "stream",
     "text": [
      "<class 'pandas.core.frame.DataFrame'>\n",
      "RangeIndex: 148 entries, 0 to 147\n",
      "Data columns (total 9 columns):\n",
      " #   Column          Non-Null Count  Dtype  \n",
      "---  ------          --------------  -----  \n",
      " 0   gender          148 non-null    object \n",
      " 1   hsc_p           148 non-null    float64\n",
      " 2   hsc_s           148 non-null    object \n",
      " 3   degree_p        148 non-null    float64\n",
      " 4   degree_t        148 non-null    object \n",
      " 5   etest_p         148 non-null    float64\n",
      " 6   specialisation  148 non-null    object \n",
      " 7   mba_p           148 non-null    float64\n",
      " 8   salary          148 non-null    float64\n",
      "dtypes: float64(5), object(4)\n",
      "memory usage: 10.5+ KB\n"
     ]
    },
    {
     "data": {
      "text/plain": [
       "{'whiskers': [<matplotlib.lines.Line2D at 0x184e310ed50>,\n",
       "  <matplotlib.lines.Line2D at 0x184e310ee90>],\n",
       " 'caps': [<matplotlib.lines.Line2D at 0x184e310efd0>,\n",
       "  <matplotlib.lines.Line2D at 0x184e310f110>],\n",
       " 'boxes': [<matplotlib.lines.Line2D at 0x184e310ec10>],\n",
       " 'medians': [<matplotlib.lines.Line2D at 0x184e310f250>],\n",
       " 'fliers': [<matplotlib.lines.Line2D at 0x184e310f390>],\n",
       " 'means': []}"
      ]
     },
     "execution_count": 7,
     "metadata": {},
     "output_type": "execute_result"
    },
    {
     "data": {
      "image/png": "[encoded data removed]",
      "text/plain": [
       "<Figure size 640x480 with 1 Axes>"
      ]
     },
     "metadata": {},
     "output_type": "display_data"
    }
   ],
   "source": [
    "\n",
    "data.info()\n",
    "plt.boxplot(data['salary'])"
   ]
  },
  {
   "cell_type": "markdown",
   "id": "fae6d6a9-9046-414e-8fb3-7771d208ea9e",
   "metadata": {
    "id": "fae6d6a9-9046-414e-8fb3-7771d208ea9e"
   },
   "source": [
    "#### Step 4  Option 1: Identifying Outliers Using Z-Scores\n",
    "The value of 3 in the context of Z-scores is often used as a threshold to identify outliers in a dataset. A Z-score represents how many standard deviations a data point is away from the mean of the dataset. Specifically:\n",
    "\n",
    "A Z-score of 0 means the data point is exactly at the mean.\n",
    "A Z-score of 1 means the data point is one standard deviation above the mean, and so on.\n",
    "A Z-score of 3 corresponds to a data point being 3 standard deviations away from the mean. For a normal distribution, about 99.7% of the data points fall within 3 standard deviations of the mean (according to the 68-95-99.7 rule, which describes the spread of data in a normal distribution). Therefore, points with Z-scores greater than 3 or less than -3 are considered unusually far from the mean and are often flagged as outliers.\n",
    "\n",
    "This threshold (Z > 3 or Z < -3) is commonly used in many statistical applications because it captures the extreme values that are rare in a normal distribution, which are typically considered to be outliers. However, the choice of threshold can vary depending on the specific application and the nature of the data.\n",
    "\n"
   ]
  },
  {
   "cell_type": "code",
   "execution_count": 21,
   "id": "f4f8e514-9e7d-40af-a804-507ac3787049",
   "metadata": {
    "id": "f4f8e514-9e7d-40af-a804-507ac3787049",
    "outputId": "ad4a5261-b5eb-4c19-8082-154816b28bae"
   },
   "outputs": [
    {
     "name": "stdout",
     "output_type": "stream",
     "text": [
      "[[-0.2002917 ]\n",
      " [-0.95183895]\n",
      " [-0.41501948]\n",
      " [ 1.46384865]\n",
      " [-0.3935467 ]\n",
      " [-0.61901088]\n",
      " [-0.30765559]\n",
      " [-0.41501948]\n",
      " [-0.75858394]\n",
      " [-0.95183895]\n",
      " [ 0.12179998]\n",
      " [-0.56532893]\n",
      " [-0.25397364]\n",
      " [ 1.12028419]\n",
      " [ 0.76598334]\n",
      " [ 0.12179998]\n",
      " [ 0.76598334]\n",
      " [-0.52238338]\n",
      " [-0.25397364]\n",
      " [ 0.65861945]\n",
      " [-0.41501948]\n",
      " [-0.11440058]\n",
      " [-0.30765559]\n",
      " [ 0.12179998]\n",
      " [ 0.33652777]\n",
      " [-0.52238338]\n",
      " [ 1.3135392 ]\n",
      " [-0.01777308]\n",
      " [ 0.12179998]\n",
      " [-0.95183895]\n",
      " [-0.90889339]\n",
      " [-0.41501948]\n",
      " [-0.95183895]\n",
      " [ 1.73225838]\n",
      " [-0.78005672]\n",
      " [-0.73711116]\n",
      " [-0.52238338]\n",
      " [ 0.76598334]\n",
      " [-0.22176447]\n",
      " [-0.25397364]\n",
      " [-0.30765559]\n",
      " [ 0.12179998]\n",
      " [-0.52238338]\n",
      " [-0.52238338]\n",
      " [-0.14660975]\n",
      " [-0.14660975]\n",
      " [-0.14660975]\n",
      " [ 0.76598334]\n",
      " [-0.52238338]\n",
      " [-0.52238338]\n",
      " [-0.75858394]\n",
      " [ 0.50831   ]\n",
      " [-0.62974727]\n",
      " [ 2.26907785]\n",
      " [-0.2002917 ]\n",
      " [-0.52238338]\n",
      " [ 0.12179998]\n",
      " [ 0.12179998]\n",
      " [ 0.12179998]\n",
      " [ 1.19543892]\n",
      " [-0.73711116]\n",
      " [-0.84447506]\n",
      " [-0.84447506]\n",
      " [ 0.12179998]\n",
      " [-0.62974727]\n",
      " [-0.30765559]\n",
      " [ 1.4101667 ]\n",
      " [ 0.12179998]\n",
      " [-0.73711116]\n",
      " [ 0.98071113]\n",
      " [ 0.12179998]\n",
      " [-0.52238338]\n",
      " [ 0.76598334]\n",
      " [-0.95183895]\n",
      " [ 0.12179998]\n",
      " [-0.41501948]\n",
      " [-0.41501948]\n",
      " [-0.0929278 ]\n",
      " [-0.41501948]\n",
      " [-0.78005672]\n",
      " [ 0.12179998]\n",
      " [-0.52238338]\n",
      " [-0.13587336]\n",
      " [ 6.99308916]\n",
      " [-0.41501948]\n",
      " [-0.56532893]\n",
      " [-0.52238338]\n",
      " [-0.41501948]\n",
      " [ 0.65861945]\n",
      " [-0.84447506]\n",
      " [-0.41501948]\n",
      " [ 1.19543892]\n",
      " [-0.41501948]\n",
      " [ 0.76598334]\n",
      " [ 0.12179998]\n",
      " [-0.41501948]\n",
      " [-0.41501948]\n",
      " [-0.95183895]\n",
      " [-0.68342922]\n",
      " [-0.41501948]\n",
      " [-0.73711116]\n",
      " [-0.25397364]\n",
      " [-0.30765559]\n",
      " [ 0.12179998]\n",
      " [ 1.19543892]\n",
      " [-0.5975381 ]\n",
      " [ 0.12179998]\n",
      " [-0.52238338]\n",
      " [ 4.30899183]\n",
      " [-0.2002917 ]\n",
      " [-0.52238338]\n",
      " [ 0.55125556]\n",
      " [-0.41501948]\n",
      " [-0.36133754]\n",
      " [ 0.12179998]\n",
      " [ 0.12179998]\n",
      " [-0.03924586]\n",
      " [ 2.26907785]\n",
      " [-0.41501948]\n",
      " [-0.52238338]\n",
      " [ 0.01443609]\n",
      " [ 0.12179998]\n",
      " [ 2.26907785]\n",
      " [-0.73711116]\n",
      " [ 3.87953625]\n",
      " [ 0.65861945]\n",
      " [-0.25397364]\n",
      " [-0.13587336]\n",
      " [-0.3935467 ]\n",
      " [-0.0929278 ]\n",
      " [-0.26471003]\n",
      " [-0.2002917 ]\n",
      " [ 0.12179998]\n",
      " [-0.14660975]\n",
      " [-0.41501948]\n",
      " [-0.30765559]\n",
      " [-0.25397364]\n",
      " [ 0.12179998]\n",
      " [-0.52238338]\n",
      " [-0.30765559]\n",
      " [-0.84447506]\n",
      " [-0.41501948]\n",
      " [ 0.12179998]\n",
      " [-0.78005672]\n",
      " [ 1.19543892]\n",
      " [-0.14660975]\n",
      " [ 0.06811804]\n",
      " [-0.90889339]]\n",
      "[False False False False False False False False False False False False\n",
      " False False False False False False False False False False False False\n",
      " False False False False False False False False False False False False\n",
      " False False False False False False False False False False False False\n",
      " False False False False False False False False False False False False\n",
      " False False False False False False False False False False False False\n",
      " False False False False False False False False False False False False\n",
      " False False False False False False False False False False False False\n",
      " False False False False False False False False False False False False\n",
      " False False False False False False False False False False False False\n",
      " False False False False False False False False False False False False\n",
      " False False False False False False False False False False False False\n",
      " False False False False]\n",
      "148\n",
      "    gender     hsc_p     hsc_s  degree_p   degree_t   etest_p specialisation  \\\n",
      "0        M  0.857051  Commerce  0.057143   Sci&Tech  0.104167         Mkt&HR   \n",
      "1        M  0.586729   Science  0.613714   Sci&Tech  0.760417        Mkt&Fin   \n",
      "2        M  0.409023      Arts  0.228571  Comm&Mgmt  0.520833        Mkt&Fin   \n",
      "3        M  0.485812  Commerce  0.494286  Comm&Mgmt  0.975000        Mkt&Fin   \n",
      "4        M  0.280990   Science  0.285714   Sci&Tech  0.354167        Mkt&Fin   \n",
      "..     ...       ...       ...       ...        ...       ...            ...   \n",
      "143      M  0.451675  Commerce  0.257143  Comm&Mgmt  0.354167        Mkt&Fin   \n",
      "144      M  0.665031  Commerce  0.617143  Comm&Mgmt  0.854167        Mkt&Fin   \n",
      "145      M  0.195648   Science  0.457143   Sci&Tech  0.500000        Mkt&Fin   \n",
      "146      M  0.344997  Commerce  0.485714  Comm&Mgmt  0.187500        Mkt&Fin   \n",
      "147      F  0.323661  Commerce  0.057143  Comm&Mgmt  0.416667         Mkt&HR   \n",
      "\n",
      "     mba_p    salary  \n",
      "0    58.80  0.094595  \n",
      "1    66.28  0.000000  \n",
      "2    57.80  0.067568  \n",
      "3    55.50  0.304054  \n",
      "4    62.14  0.070270  \n",
      "..     ...       ...  \n",
      "143  56.49  0.021622  \n",
      "144  74.49  0.270270  \n",
      "145  53.62  0.101351  \n",
      "146  69.72  0.128378  \n",
      "147  60.23  0.005405  \n",
      "\n",
      "[145 rows x 9 columns]\n",
      "<class 'pandas.core.frame.DataFrame'>\n",
      "Index: 145 entries, 0 to 147\n",
      "Data columns (total 9 columns):\n",
      " #   Column          Non-Null Count  Dtype  \n",
      "---  ------          --------------  -----  \n",
      " 0   gender          145 non-null    object \n",
      " 1   hsc_p           145 non-null    float64\n",
      " 2   hsc_s           145 non-null    object \n",
      " 3   degree_p        145 non-null    float64\n",
      " 4   degree_t        145 non-null    object \n",
      " 5   etest_p         145 non-null    float64\n",
      " 6   specialisation  145 non-null    object \n",
      " 7   mba_p           145 non-null    float64\n",
      " 8   salary          145 non-null    float64\n",
      "dtypes: float64(5), object(4)\n",
      "memory usage: 11.3+ KB\n"
     ]
    }
   ],
   "source": [
    "columns_to_check = ['salary']\n",
    "z_score = stats.zscore(data[columns_to_check])\n",
    "print(z_scores)\n",
    "threshold = 3\n",
    "outlier_indices_u = (z_score > threshold).any(axis=1)\n",
    "outlier_indices_l = (z_score <-3).any(axis=1)\n",
    "print(outlier_indices_l)\n",
    "print(len(outlier_indices_u))\n",
    "clean=data[~outlier_indices_u]\n",
    "print(clean)\n",
    "clean.info()"
   ]
  },
  {
   "cell_type": "markdown",
   "id": "6e313b15-6527-46d5-a214-a392336f5c32",
   "metadata": {
    "id": "6e313b15-6527-46d5-a214-a392336f5c32"
   },
   "source": [
    "#### Option 2:  Capping and Flooring Outliers"
   ]
  },
  {
   "cell_type": "code",
   "execution_count": 29,
   "id": "23e70f1a-2a4b-4367-aed3-2af0cc3202d7",
   "metadata": {
    "id": "23e70f1a-2a4b-4367-aed3-2af0cc3202d7"
   },
   "outputs": [
    {
     "name": "stdout",
     "output_type": "stream",
     "text": [
      "    gender     hsc_p     hsc_s  degree_p   degree_t   etest_p specialisation  \\\n",
      "0        M  0.857051  Commerce  0.057143   Sci&Tech  0.104167         Mkt&HR   \n",
      "1        M  0.586729   Science  0.613714   Sci&Tech  0.760417        Mkt&Fin   \n",
      "2        M  0.409023      Arts  0.228571  Comm&Mgmt  0.520833        Mkt&Fin   \n",
      "3        M  0.485812  Commerce  0.494286  Comm&Mgmt  0.975000        Mkt&Fin   \n",
      "4        M  0.280990   Science  0.285714   Sci&Tech  0.354167        Mkt&Fin   \n",
      "..     ...       ...       ...       ...        ...       ...            ...   \n",
      "143      M  0.451675  Commerce  0.257143  Comm&Mgmt  0.354167        Mkt&Fin   \n",
      "144      M  0.665031  Commerce  0.617143  Comm&Mgmt  0.854167        Mkt&Fin   \n",
      "145      M  0.195648   Science  0.457143   Sci&Tech  0.500000        Mkt&Fin   \n",
      "146      M  0.344997  Commerce  0.485714  Comm&Mgmt  0.187500        Mkt&Fin   \n",
      "147      F  0.323661  Commerce  0.057143  Comm&Mgmt  0.416667         Mkt&HR   \n",
      "\n",
      "     mba_p    salary  \n",
      "0    58.80  0.094595  \n",
      "1    66.28  0.008243  \n",
      "2    57.80  0.067568  \n",
      "3    55.50  0.301689  \n",
      "4    62.14  0.070270  \n",
      "..     ...       ...  \n",
      "143  56.49  0.021622  \n",
      "144  74.49  0.270270  \n",
      "145  53.62  0.101351  \n",
      "146  69.72  0.128378  \n",
      "147  60.23  0.008243  \n",
      "\n",
      "[148 rows x 9 columns]\n"
     ]
    }
   ],
   "source": [
    "lower_limit=data[columns_to_check].quantile(0.05)\n",
    "upper_limit=data[columns_to_check].quantile(0.95)\n",
    "df_capped=data.copy()\n",
    "df_capped[columns_to_check]=df_capped[columns_to_check].clip(lower_limit, upper_limit, axis=1)\n",
    "print(df_capped)\n"
   ]
  },
  {
   "cell_type": "markdown",
   "id": "3678ba11-dc4c-4735-80c6-fe5447ba307f",
   "metadata": {
    "id": "3678ba11-dc4c-4735-80c6-fe5447ba307f"
   },
   "source": [
    "### Step 5: Convert categorical variables into numerical format using LabelEncoder ()."
   ]
  },
  {
   "cell_type": "code",
   "execution_count": 37,
   "id": "fe0a1513-5811-4844-8f06-3c9ad50a32e4",
   "metadata": {},
   "outputs": [
    {
     "data": {
      "text/html": [
       "<div>\n",
       "<style scoped>\n",
       "    .dataframe tbody tr th:only-of-type {\n",
       "        vertical-align: middle;\n",
       "    }\n",
       "\n",
       "    .dataframe tbody tr th {\n",
       "        vertical-align: top;\n",
       "    }\n",
       "\n",
       "    .dataframe thead th {\n",
       "        text-align: right;\n",
       "    }\n",
       "</style>\n",
       "<table border=\"1\" class=\"dataframe\">\n",
       "  <thead>\n",
       "    <tr style=\"text-align: right;\">\n",
       "      <th></th>\n",
       "      <th>gender</th>\n",
       "      <th>hsc_p</th>\n",
       "      <th>hsc_s</th>\n",
       "      <th>degree_p</th>\n",
       "      <th>degree_t</th>\n",
       "      <th>etest_p</th>\n",
       "      <th>specialisation</th>\n",
       "      <th>mba_p</th>\n",
       "      <th>salary</th>\n",
       "    </tr>\n",
       "  </thead>\n",
       "  <tbody>\n",
       "    <tr>\n",
       "      <th>0</th>\n",
       "      <td>1</td>\n",
       "      <td>0.857051</td>\n",
       "      <td>1</td>\n",
       "      <td>0.057143</td>\n",
       "      <td>2</td>\n",
       "      <td>0.104167</td>\n",
       "      <td>1</td>\n",
       "      <td>58.80</td>\n",
       "      <td>0.094595</td>\n",
       "    </tr>\n",
       "    <tr>\n",
       "      <th>1</th>\n",
       "      <td>1</td>\n",
       "      <td>0.586729</td>\n",
       "      <td>2</td>\n",
       "      <td>0.613714</td>\n",
       "      <td>2</td>\n",
       "      <td>0.760417</td>\n",
       "      <td>0</td>\n",
       "      <td>66.28</td>\n",
       "      <td>0.000000</td>\n",
       "    </tr>\n",
       "    <tr>\n",
       "      <th>2</th>\n",
       "      <td>1</td>\n",
       "      <td>0.409023</td>\n",
       "      <td>0</td>\n",
       "      <td>0.228571</td>\n",
       "      <td>0</td>\n",
       "      <td>0.520833</td>\n",
       "      <td>0</td>\n",
       "      <td>57.80</td>\n",
       "      <td>0.067568</td>\n",
       "    </tr>\n",
       "    <tr>\n",
       "      <th>3</th>\n",
       "      <td>1</td>\n",
       "      <td>0.485812</td>\n",
       "      <td>1</td>\n",
       "      <td>0.494286</td>\n",
       "      <td>0</td>\n",
       "      <td>0.975000</td>\n",
       "      <td>0</td>\n",
       "      <td>55.50</td>\n",
       "      <td>0.304054</td>\n",
       "    </tr>\n",
       "    <tr>\n",
       "      <th>4</th>\n",
       "      <td>1</td>\n",
       "      <td>0.280990</td>\n",
       "      <td>2</td>\n",
       "      <td>0.285714</td>\n",
       "      <td>2</td>\n",
       "      <td>0.354167</td>\n",
       "      <td>0</td>\n",
       "      <td>62.14</td>\n",
       "      <td>0.070270</td>\n",
       "    </tr>\n",
       "  </tbody>\n",
       "</table>\n",
       "</div>"
      ],
      "text/plain": [
       "   gender     hsc_p  hsc_s  degree_p  degree_t   etest_p  specialisation  \\\n",
       "0       1  0.857051      1  0.057143         2  0.104167               1   \n",
       "1       1  0.586729      2  0.613714         2  0.760417               0   \n",
       "2       1  0.409023      0  0.228571         0  0.520833               0   \n",
       "3       1  0.485812      1  0.494286         0  0.975000               0   \n",
       "4       1  0.280990      2  0.285714         2  0.354167               0   \n",
       "\n",
       "   mba_p    salary  \n",
       "0  58.80  0.094595  \n",
       "1  66.28  0.000000  \n",
       "2  57.80  0.067568  \n",
       "3  55.50  0.304054  \n",
       "4  62.14  0.070270  "
      ]
     },
     "execution_count": 37,
     "metadata": {},
     "output_type": "execute_result"
    }
   ],
   "source": [
    "L1=LabelEncoder ()\n",
    "data['gender']=L1.fit_transform(data['gender'])\n",
    "data['specialisation']=L1.fit_transform(data['specialisation'])\n",
    "data['degree_t']=L1.fit_transform(data['degree_t']) \n",
    "data['hsc_s']=L1.fit_transform(data['hsc_s']) \n",
    "data.head()\n",
    "                                "
   ]
  },
  {
   "cell_type": "code",
   "execution_count": 41,
   "id": "bae592f4-e676-41bb-b00c-08c1347cdb9c",
   "metadata": {},
   "outputs": [
    {
     "name": "stdout",
     "output_type": "stream",
     "text": [
      "        hsc_p  degree_p   etest_p  mba_p    salary  gender_F  gender_M  \\\n",
      "0    0.857051  0.057143  0.104167  58.80  0.094595     False      True   \n",
      "1    0.586729  0.613714  0.760417  66.28  0.000000     False      True   \n",
      "2    0.409023  0.228571  0.520833  57.80  0.067568     False      True   \n",
      "3    0.485812  0.494286  0.975000  55.50  0.304054     False      True   \n",
      "4    0.280990  0.285714  0.354167  62.14  0.070270     False      True   \n",
      "..        ...       ...       ...    ...       ...       ...       ...   \n",
      "143  0.451675  0.257143  0.354167  56.49  0.021622     False      True   \n",
      "144  0.665031  0.617143  0.854167  74.49  0.270270     False      True   \n",
      "145  0.195648  0.457143  0.500000  53.62  0.101351     False      True   \n",
      "146  0.344997  0.485714  0.187500  69.72  0.128378     False      True   \n",
      "147  0.323661  0.057143  0.416667  60.23  0.005405      True     False   \n",
      "\n",
      "     hsc_s_Arts  hsc_s_Commerce  hsc_s_Science  degree_t_Comm&Mgmt  \\\n",
      "0         False            True          False               False   \n",
      "1         False           False           True               False   \n",
      "2          True           False          False                True   \n",
      "3         False            True          False                True   \n",
      "4         False           False           True               False   \n",
      "..          ...             ...            ...                 ...   \n",
      "143       False            True          False                True   \n",
      "144       False            True          False                True   \n",
      "145       False           False           True               False   \n",
      "146       False            True          False                True   \n",
      "147       False            True          False                True   \n",
      "\n",
      "     degree_t_Others  degree_t_Sci&Tech  specialisation_Mkt&Fin  \\\n",
      "0              False               True                   False   \n",
      "1              False               True                    True   \n",
      "2              False              False                    True   \n",
      "3              False              False                    True   \n",
      "4              False               True                    True   \n",
      "..               ...                ...                     ...   \n",
      "143            False              False                    True   \n",
      "144            False              False                    True   \n",
      "145            False               True                    True   \n",
      "146            False              False                    True   \n",
      "147            False              False                   False   \n",
      "\n",
      "     specialisation_Mkt&HR  \n",
      "0                     True  \n",
      "1                    False  \n",
      "2                    False  \n",
      "3                    False  \n",
      "4                    False  \n",
      "..                     ...  \n",
      "143                  False  \n",
      "144                  False  \n",
      "145                  False  \n",
      "146                  False  \n",
      "147                   True  \n",
      "\n",
      "[148 rows x 15 columns]\n"
     ]
    }
   ],
   "source": [
    "data=pd.read_csv(\"pre.csv\")\n",
    "categorical_cols = ['gender','hsc_s','degree_t','specialisation']\n",
    "one_hot_encoded_data=pd.get_dummies(\n",
    "    data,\n",
    "    columns=categorical_cols,\n",
    ")\n",
    "print(one_hot_encoded_data)\n",
    "one_hot_encoded_data.to_csv(\"final.csv\")"
   ]
  },
  {
   "cell_type": "code",
   "execution_count": 43,
   "id": "f103db4b-073d-44ef-a9e5-b3e551a3d6eb",
   "metadata": {},
   "outputs": [
    {
     "name": "stdout",
     "output_type": "stream",
     "text": [
      "<class 'pandas.core.frame.DataFrame'>\n",
      "RangeIndex: 148 entries, 0 to 147\n",
      "Data columns (total 16 columns):\n",
      " #   Column                  Non-Null Count  Dtype  \n",
      "---  ------                  --------------  -----  \n",
      " 0   Unnamed: 0              148 non-null    int64  \n",
      " 1   hsc_p                   148 non-null    float64\n",
      " 2   degree_p                148 non-null    float64\n",
      " 3   etest_p                 148 non-null    float64\n",
      " 4   mba_p                   148 non-null    float64\n",
      " 5   salary                  148 non-null    float64\n",
      " 6   gender_F                148 non-null    bool   \n",
      " 7   gender_M                148 non-null    bool   \n",
      " 8   hsc_s_Arts              148 non-null    bool   \n",
      " 9   hsc_s_Commerce          148 non-null    bool   \n",
      " 10  hsc_s_Science           148 non-null    bool   \n",
      " 11  degree_t_Comm&Mgmt      148 non-null    bool   \n",
      " 12  degree_t_Others         148 non-null    bool   \n",
      " 13  degree_t_Sci&Tech       148 non-null    bool   \n",
      " 14  specialisation_Mkt&Fin  148 non-null    bool   \n",
      " 15  specialisation_Mkt&HR   148 non-null    bool   \n",
      "dtypes: bool(10), float64(5), int64(1)\n",
      "memory usage: 8.5 KB\n"
     ]
    }
   ],
   "source": [
    "data=pd.read_csv(\"final.csv\")\n",
    "data.info()"
   ]
  },
  {
   "cell_type": "code",
   "execution_count": null,
   "id": "b1bdc9ba-e5b4-4195-bdef-01a8eea915a7",
   "metadata": {},
   "outputs": [],
   "source": []
  }
 ],
 "metadata": {
  "colab": {
   "provenance": []
  },
  "kernelspec": {
   "display_name": "Python [conda env:base] *",
   "language": "python",
   "name": "conda-base-py"
  },
  "language_info": {
   "codemirror_mode": {
    "name": "ipython",
    "version": 3
   },
   "file_extension": ".py",
   "mimetype": "text/x-python",
   "name": "python",
   "nbconvert_exporter": "python",
   "pygments_lexer": "ipython3",
   "version": "3.13.5"
  }
 },
 "nbformat": 4,
 "nbformat_minor": 5
}
